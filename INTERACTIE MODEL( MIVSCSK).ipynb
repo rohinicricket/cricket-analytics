{
 "cells": [
  {
   "cell_type": "code",
   "execution_count": 5,
   "id": "6627d42f",
   "metadata": {},
   "outputs": [],
   "source": [
    "import pandas as pd\n",
    "import numpy as np"
   ]
  },
  {
   "cell_type": "code",
   "execution_count": 6,
   "id": "643598e6",
   "metadata": {},
   "outputs": [],
   "source": [
    "# MI =0.3379, 0.3892,  0.05278, 0.0039, 0.1154, 0.0552, 0.04538],"
   ]
  },
  {
   "cell_type": "code",
   "execution_count": 7,
   "id": "33e58bc6",
   "metadata": {},
   "outputs": [],
   "source": [
    "#CSK = [0.3717+0.3905+0.0553+ 0.0014+0.0989+0.0407,0.0412]"
   ]
  },
  {
   "cell_type": "code",
   "execution_count": 14,
   "id": "230f9654",
   "metadata": {},
   "outputs": [],
   "source": [
    "def get_pbvalues(teamName):\n",
    "  \n",
    "    if teamName == 'MI':\n",
    "        p_0 = 0.3379\n",
    "        p_1 = 0.3379 + 0.3892 \n",
    "        p_2 = 0.3379 + 0.3892 + 0.0527 \n",
    "        p_3 = 0.3379 + 0.3892 + 0.0527 + 0.0039 \n",
    "        p_4 = 0.3379 + 0.3892 + 0.0527 + 0.0039 + 0.1154 \n",
    "        p_6 = 0.3379 + 0.3892 + 0.0527 + 0.0039 + 0.1154 +0.0552 \n",
    "        p_w = 1\n",
    "        \n",
    "    elif teamName == 'CSK':\n",
    "        p_0 = 0.3717\n",
    "        p_1 = 0.3717+0.3905\n",
    "        p_2 =0.3717+0.3905+0.0553\n",
    "        p_3 = 0.3717+0.3905+0.0553+ 0.0014\n",
    "        p_4 =0.3717+0.3905+0.0553+ 0.0014+0.0989\n",
    "        p_6 = 0.3717+0.3905+0.0553+ 0.0014+0.0989+0.0407\n",
    "        p_w = 1\n",
    "\n",
    "    return p_0, p_1, p_2, p_3, p_4, p_6, p_w  "
   ]
  },
  {
   "cell_type": "code",
   "execution_count": 15,
   "id": "db0a2479",
   "metadata": {},
   "outputs": [],
   "source": [
    "def predict_runs(target, current_score, current_wickets, current_overs):\n",
    "  \n",
    "    # pb values of both teams\n",
    "    i1p_0, i1p_1, i1p_2, i1p_3, i1p_4, i1p_6, i1p_w = get_pbvalues('MI')\n",
    "    i2p_0, i2p_1, i2p_2, i2p_3, i2p_4, i2p_6, i2p_w = get_pbvalues('CSK')\n",
    "\n",
    "    pred_runs = current_score\n",
    "    pred_wks = current_wickets\n",
    "    leftover_balls = 120 - current_overs*6\n",
    "\n",
    "    for i in range(leftover_balls):\n",
    "        r_value = np.random.random()\n",
    "\n",
    "        if r_value <= i2p_0:\n",
    "            pred_runs += 0\n",
    "        elif r_value <= i2p_1:\n",
    "            pred_runs += 1\n",
    "        elif r_value <= i2p_2:\n",
    "            pred_runs += 2\n",
    "        elif r_value <= i2p_3:\n",
    "            pred_runs += 3\n",
    "        elif r_value <= i2p_4:\n",
    "            pred_runs += 4\n",
    "        elif r_value <= i2p_6:\n",
    "            pred_runs += 6\n",
    "        else:\n",
    "            pred_runs += 0\n",
    "            pred_wks += 1\n",
    "            if pred_wks == 10:\n",
    "                break\n",
    "        if pred_runs > target:\n",
    "            break\n",
    "        # print('pred_runs: ', pred_runs)\n",
    "        # print('pred_wks: ', pred_wks)\n",
    "    \n",
    "    return pred_runs"
   ]
  },
  {
   "cell_type": "code",
   "execution_count": 18,
   "id": "fe28ccc9",
   "metadata": {},
   "outputs": [
    {
     "data": {
      "text/plain": [
       "138"
      ]
     },
     "execution_count": 18,
     "metadata": {},
     "output_type": "execute_result"
    }
   ],
   "source": [
    "predict_runs(148, 0, 0, 0)"
   ]
  },
  {
   "cell_type": "code",
   "execution_count": 19,
   "id": "ada9a32d",
   "metadata": {},
   "outputs": [],
   "source": [
    "def get_win(pred_runs, target):\n",
    "    if pred_runs > target:\n",
    "        return 'win'\n",
    "    elif pred_runs == target:\n",
    "        return 'tie'\n",
    "    else:\n",
    "        return 'lose'"
   ]
  },
  {
   "cell_type": "code",
   "execution_count": 31,
   "id": "639ef3cf",
   "metadata": {},
   "outputs": [],
   "source": [
    "target = 149\n",
    "\n",
    "current_score = 87\n",
    "current_wickets = 1\n",
    "current_overs = 10\n",
    "\n",
    "iter_count = 100\n",
    "\n",
    "runs_ls = []\n",
    "results_ls = []\n",
    "\n",
    "win_count = 0\n",
    "tie_count = 0\n",
    "lose_count = 0\n",
    "\n",
    "for i in range(iter_count):\n",
    "    pred_runs = predict_runs(target, current_score, current_wickets, current_overs)\n",
    "    runs_ls.append(pred_runs)\n",
    "    result_pred = get_win(pred_runs, target)\n",
    "    results_ls.append(result_pred)\n",
    "\n",
    "    if result_pred == 'win':\n",
    "        win_count += 1\n",
    "    elif result_pred == 'tie':\n",
    "        tie_count += 1\n",
    "    else:\n",
    "        lose_count +=1"
   ]
  },
  {
   "cell_type": "code",
   "execution_count": 32,
   "id": "37a0d6d3",
   "metadata": {},
   "outputs": [
    {
     "data": {
      "text/plain": [
       "(72, 2, 26)"
      ]
     },
     "execution_count": 32,
     "metadata": {},
     "output_type": "execute_result"
    }
   ],
   "source": [
    "win_count, tie_count, lose_count"
   ]
  },
  {
   "cell_type": "code",
   "execution_count": 33,
   "id": "e8ff3d0a",
   "metadata": {},
   "outputs": [],
   "source": [
    "def find_runs(current_score, target, current_wickets, at_overs):\n",
    "    runs_ls = []\n",
    "    results_ls = []\n",
    "\n",
    "    req_runs = []\n",
    "    win_ls = []\n",
    "\n",
    "    for i in range(current_score, target + 1):\n",
    "        win_count = 0\n",
    "        tie_count = 0\n",
    "        lose_count = 0\n",
    "\n",
    "        for j in range(100):\n",
    "            pred_runs = predict_runs(target, i, current_wickets, at_overs)\n",
    "            runs_ls.append(pred_runs)\n",
    "            result_pred = get_win(pred_runs, target)\n",
    "            results_ls.append(result_pred)\n",
    "\n",
    "            if result_pred == 'win':\n",
    "                win_count += 1\n",
    "            elif result_pred == 'tie':\n",
    "                tie_count += 1\n",
    "            else:\n",
    "                lose_count +=1\n",
    "\n",
    "            win_ls.append(win_count)\n",
    "            req_runs.append(i)\n",
    "            # print('runs: ', i, ' win%: ', win_count)\n",
    "\n",
    "    required_runs = current_score\n",
    "    for i in range(len(req_runs)):\n",
    "        if win_ls[i] >= 50:\n",
    "            required_runs = req_runs[i]\n",
    "            # print('Runs to be: ', req_runs[i])\n",
    "            break\n",
    "\n",
    "    return required_runs\n"
   ]
  },
  {
   "cell_type": "code",
   "execution_count": 34,
   "id": "2bc6d1aa",
   "metadata": {},
   "outputs": [
    {
     "data": {
      "text/plain": [
       "106"
      ]
     },
     "execution_count": 34,
     "metadata": {},
     "output_type": "execute_result"
    }
   ],
   "source": [
    "find_runs(87, 167, 1, 11)"
   ]
  },
  {
   "cell_type": "code",
   "execution_count": 35,
   "id": "cc56375d",
   "metadata": {},
   "outputs": [],
   "source": [
    "def find_wickets(current_score, target, current_wickets, at_overs):\n",
    "\n",
    "#     find_runs(current_score, target, current_wickets, at_overs)\n",
    "    req_runs = find_runs(current_score, target, current_wickets, at_overs)\n",
    "\n",
    "    runs_ls = []\n",
    "    results_ls = []\n",
    "\n",
    "    req_wks = []\n",
    "    win_ls = []\n",
    "\n",
    "    for i in range(current_wickets, 10):\n",
    "        win_count = 0\n",
    "        tie_count = 0\n",
    "        lose_count = 0\n",
    "\n",
    "        for j in range(100):\n",
    "#             pred_runs = predict_runs(target, req_runs, i, at_overs)\n",
    "            pred_runs = predict_runs(target, current_score, i, at_overs)\n",
    "            runs_ls.append(pred_runs)\n",
    "            result_pred = get_win(pred_runs, target)\n",
    "            results_ls.append(result_pred)\n",
    "\n",
    "            if result_pred == 'win':\n",
    "                win_count += 1\n",
    "            elif result_pred == 'tie':\n",
    "                tie_count += 1\n",
    "            else:\n",
    "                lose_count +=1\n",
    "\n",
    "        win_ls.append(win_count)\n",
    "        req_wks.append(i)\n",
    "#         print('wickets: ', i, ' win%: ', win_count)\n",
    "\n",
    "    req_wicket_value = current_wickets\n",
    "    \n",
    "    for i in range(len(req_wks)):\n",
    "        if (win_ls[i] < 45)  :\n",
    "            req_wicket_value = req_wks[i]\n",
    "            break\n",
    "\n",
    "    return req_wicket_value"
   ]
  },
  {
   "cell_type": "code",
   "execution_count": 39,
   "id": "a8f565a9",
   "metadata": {},
   "outputs": [],
   "source": [
    "%matplotlib inline\n",
    "from ipywidgets import interactive\n",
    "import ipywidgets as widgets\n",
    "import matplotlib.pyplot as plt\n",
    "import numpy as np\n",
    "\n",
    "def find_runs_wickets(current_wks, at_overs, target_score):\n",
    "    plt.figure(figsize = (16, 6))\n",
    "    # x = np.linspace(-10, 10, num=1000)\n",
    "    x = np.array(list(range(21)))\n",
    "    req_value = find_runs(87, target_score, current_wks, at_overs)\n",
    "    req_wk_value = find_wickets(87, target_score, current_wks, at_overs)\n",
    "\n",
    "    if at_overs == 10:\n",
    "        req_value = 67\n",
    "        req_wk_value = 1\n",
    "\n",
    "    \n",
    "    # print(req_value)\n",
    "    y = np.array([req_value for i in range(21)])\n",
    "\n",
    "    # plt.plot(x, current_overs * x + target_score)\n",
    "    # plt.plot(x, y)\n",
    "    plt.scatter(at_overs, req_value, s = 1200, color = 'red')\n",
    "    plt.axhline(target_score, ls = '--', color = 'blue')\n",
    "    plt.text( 1, target_score + 10, 'Target Score :' + str(target_score) , color = 'darkblue', fontsize = 13)\n",
    "    plt.text( at_overs, req_value, str(req_value) + '/' + str(req_wk_value), color = 'white', fontsize = 12,  horizontalalignment='center', verticalalignment='center')\n",
    "    plt.text(at_overs, req_value - 30, 'CSK has to be at ' + str(req_value) + '/' +  str(req_wk_value) + ' after ' + str(at_overs) + ' ov', horizontalalignment='center')\n",
    "    plt.ylim(50, target_score + 50)\n",
    "    plt.xticks(x)\n",
    "    plt.title('Where should CSK be?', fontsize = 20)\n",
    "    plt.xlabel('Overs')\n",
    "    plt.ylabel('Score')\n",
    "    plt.show()"
   ]
  },
  {
   "cell_type": "code",
   "execution_count": 40,
   "id": "a16d4026",
   "metadata": {},
   "outputs": [
    {
     "name": "stdout",
     "output_type": "stream",
     "text": [
      "current_score = CSK: 67/1 (10 overs)\n",
      "\n"
     ]
    },
    {
     "data": {
      "application/vnd.jupyter.widget-view+json": {
       "model_id": "17543a6dd23c4b3ea52789a32c9a8616",
       "version_major": 2,
       "version_minor": 0
      },
      "text/plain": [
       "interactive(children=(IntSlider(value=1, description='current_wks', max=10, min=1), IntSlider(value=10, descri…"
      ]
     },
     "metadata": {},
     "output_type": "display_data"
    }
   ],
   "source": [
    "print('current_score = CSK: 67/1 (10 overs)')\n",
    "print('')\n",
    "\n",
    "interactive_plot = interactive(find_runs_wickets, current_wks = widgets.IntSlider(min=1, max=10, step=1, value=1),  at_overs=widgets.IntSlider(min=10, max=20, step=1, value=10), target_score = widgets.IntSlider(min=0, max=250, step=1, value=167))\n",
    "output = interactive_plot.children[-1]\n",
    "output.layout.height = '450px'\n",
    "interactive_plot"
   ]
  },
  {
   "cell_type": "code",
   "execution_count": null,
   "id": "a734683f",
   "metadata": {},
   "outputs": [],
   "source": []
  },
  {
   "cell_type": "code",
   "execution_count": null,
   "id": "c6013b57",
   "metadata": {},
   "outputs": [],
   "source": []
  }
 ],
 "metadata": {
  "kernelspec": {
   "display_name": "Python 3 (ipykernel)",
   "language": "python",
   "name": "python3"
  },
  "language_info": {
   "codemirror_mode": {
    "name": "ipython",
    "version": 3
   },
   "file_extension": ".py",
   "mimetype": "text/x-python",
   "name": "python",
   "nbconvert_exporter": "python",
   "pygments_lexer": "ipython3",
   "version": "3.9.7"
  }
 },
 "nbformat": 4,
 "nbformat_minor": 5
}
